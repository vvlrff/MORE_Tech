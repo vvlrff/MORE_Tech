{
 "cells": [
  {
   "cell_type": "code",
   "execution_count": 1,
   "metadata": {},
   "outputs": [],
   "source": [
    "from bs4 import BeautifulSoup\n",
    "import requests\n",
    "import json\n",
    "import time\n",
    "import pandas as pd\n",
    "import csv\n",
    "import re"
   ]
  },
  {
   "cell_type": "code",
   "execution_count": null,
   "metadata": {},
   "outputs": [
    {
     "ename": "",
     "evalue": "",
     "output_type": "error",
     "traceback": [
      "\u001b[1;31mRunning cells with 'Python 3.9.13 64-bit' requires ipykernel package.\n",
      "\u001b[1;31mRun the following command to install 'ipykernel' into the Python environment. \n",
      "\u001b[1;31mCommand: '/usr/local/bin/python3 -m pip install ipykernel -U --user --force-reinstall'"
     ]
    }
   ],
   "source": [
    "id = 0\n",
    "url = 'https://www.rbc.ru/v10/ajax/get-news-by-filters/?category=politics&offset='+ str(id) +'&limit=12'\n",
    "print(url)\n",
    "\n",
    "headers = {\n",
    "    'Accept': '*/*', \n",
    "    'User-Agent': 'Mozilla/5.0 (Macintosh; Intel Mac OS X 10_15_7) AppleWebKit/537.36 (KHTML, like Gecko) Chrome/104.0.5112.114 YaBrowser/22.9.1.1079 Yowser/2.5 Safari/537.36' \n",
    "}\n",
    "\n",
    "req = requests.get(url, headers=headers)\n",
    "src = req.text\n",
    "\n",
    "soup = BeautifulSoup(src, 'lxml')"
   ]
  },
  {
   "cell_type": "code",
   "execution_count": null,
   "metadata": {},
   "outputs": [],
   "source": [
    "id = 0\n",
    "items = []\n",
    "hrefs = []\n",
    "for item in range(1000):\n",
    "    url = 'https://www.rbc.ru/v10/ajax/get-news-by-filters/?category=politics&offset='+ str(id) +'&limit=12'\n",
    "    req = requests.get(url, headers=headers)\n",
    "    src = req.text\n",
    "\n",
    "    soup = BeautifulSoup(src, 'lxml')  \n",
    "\n",
    "    postHref = soup.find(\"a\").get(\"href\")\n",
    "    items.append(\n",
    "        {\n",
    "            \"id\": id,\n",
    "            \"href\": postHref\n",
    "        }\n",
    "    )\n",
    "    id += 1\n",
    "    print(postHref +'completed')\n",
    "    hrefs.append(postHref)\n",
    "\n",
    "\"\"\"\n",
    "req = requests.get(postHref, headers=headers)\n",
    "src = req.text\n",
    "\n",
    "soup = BeautifulSoup(src, 'lxml')\n",
    "print(soup)\n",
    "\"\"\"\n",
    "\n",
    "\n",
    "\n",
    "\n",
    "\n",
    "\n",
    "# df = pd.DataFrame(data, columns=['SENDER', 'MESSAGE'])\n",
    "# df.to_csv('filename.csv', encoding='utf-8')\n",
    "\n",
    "\"\"\"\n",
    "with open('rbk_economy.csv', 'w') as csvfile:\n",
    "    writer = csv.writer(csvfile)\n",
    "    writer.writerow(('SENDER', 'MESSAGE'))\n",
    "\n",
    "    for item in items:\n",
    "        re.sub(r\"^\\s+|\\s+$\", \"\", item['MESSAGE'])\n",
    "        writer.writerow((item['SENDER'], item['MESSAGE']))\n",
    "\"\"\"\n"
   ]
  },
  {
   "cell_type": "code",
   "execution_count": null,
   "metadata": {},
   "outputs": [],
   "source": [
    "\n",
    "with open('rbk_politics_hrefs.json', 'w') as file:\n",
    "    json.dump(items, file, indent=4, ensure_ascii=False)"
   ]
  },
  {
   "cell_type": "code",
   "execution_count": null,
   "metadata": {},
   "outputs": [],
   "source": [
    "bigData = []\n",
    "id = 0\n",
    "for href in hrefs:\n",
    "    data =[]\n",
    "    url = href[2:-2]\n",
    "    print(url)\n",
    "    req = requests.get(url, headers=headers)\n",
    "    src = req.text\n",
    "    soup = BeautifulSoup(src, 'lxml')  \n",
    "\n",
    "    title = soup.find(class_=\"article__header__title-in js-slide-title\")\n",
    "\n",
    "    title_text = title.text\n",
    "\n",
    "    data.append(url)\n",
    "    data.append(title_text)\n",
    "    print(data)\n",
    "    print(id)\n",
    "    id+=1\n",
    "    \n",
    "\n",
    "    bigData.append(data)"
   ]
  },
  {
   "cell_type": "code",
   "execution_count": null,
   "metadata": {},
   "outputs": [],
   "source": [
    "with open('rbk_politics.csv', 'w') as csvfile:\n",
    "        writer = csv.writer(csvfile)\n",
    "        writer.writerow(('SENDER', 'MESSAGE'))"
   ]
  },
  {
   "cell_type": "code",
   "execution_count": null,
   "metadata": {},
   "outputs": [],
   "source": [
    "for data in bigData:\n",
    "    with open('rbk_politics.csv', 'a') as csvfile:\n",
    "        writer = csv.writer(csvfile)\n",
    "        writer.writerow(data)"
   ]
  },
  {
   "cell_type": "code",
   "execution_count": null,
   "metadata": {},
   "outputs": [],
   "source": [
    "df = pd.read_csv('rbk_politics.csv')\n",
    "df\n"
   ]
  }
 ],
 "metadata": {
  "kernelspec": {
   "display_name": "Python 3.9.13 64-bit",
   "language": "python",
   "name": "python3"
  },
  "language_info": {
   "codemirror_mode": {
    "name": "ipython",
    "version": 3
   },
   "file_extension": ".py",
   "mimetype": "text/x-python",
   "name": "python",
   "nbconvert_exporter": "python",
   "pygments_lexer": "ipython3",
   "version": "3.9.13"
  },
  "orig_nbformat": 4,
  "vscode": {
   "interpreter": {
    "hash": "b8bdd4e700647ba2b08c59e5df8b7da1dcf50a218bcd4c1bcd9b3dc92e8788e5"
   }
  }
 },
 "nbformat": 4,
 "nbformat_minor": 2
}
