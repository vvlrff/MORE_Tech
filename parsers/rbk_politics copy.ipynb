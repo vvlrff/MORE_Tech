{
 "cells": [
  {
   "cell_type": "code",
   "execution_count": 1,
   "metadata": {},
   "outputs": [],
   "source": [
    "from bs4 import BeautifulSoup\n",
    "import requests\n",
    "import json\n",
    "import time\n",
    "import pandas as pd\n",
    "import csv\n",
    "import re"
   ]
  },
  {
   "cell_type": "code",
   "execution_count": 2,
   "metadata": {},
   "outputs": [
    {
     "name": "stdout",
     "output_type": "stream",
     "text": [
      "https://www.rbc.ru/v10/ajax/get-news-by-filters/?category=politics&offset=0&limit=12\n"
     ]
    }
   ],
   "source": [
    "id = 0\n",
    "url = 'https://www.rbc.ru/v10/ajax/get-news-by-filters/?category=politics&offset='+ str(id) +'&limit=12'\n",
    "print(url)\n",
    "\n",
    "headers = {\n",
    "    'Accept': '*/*', \n",
    "    'User-Agent': 'Mozilla/5.0 (Macintosh; Intel Mac OS X 10_15_7) AppleWebKit/537.36 (KHTML, like Gecko) Chrome/104.0.5112.114 YaBrowser/22.9.1.1079 Yowser/2.5 Safari/537.36' \n",
    "}\n",
    "\n",
    "req = requests.get(url, headers=headers)\n",
    "src = req.text\n",
    "\n",
    "soup = BeautifulSoup(src, 'lxml')"
   ]
  },
  {
   "cell_type": "code",
   "execution_count": 3,
   "metadata": {},
   "outputs": [
    {
     "name": "stdout",
     "output_type": "stream",
     "text": [
      "\\\"https://www.rbc.ru/politics/08/10/2022/63416a959a7947a652f10e55\\\"completed\n",
      "\\\"https://www.rbc.ru/politics/08/10/2022/63415fee9a7947a3ed3600d4\\\"completed\n",
      "\\\"https://www.rbc.ru/textonlines/08/10/2022/6216fb4d9a79474dc80e8821\\\"completed\n",
      "\\\"https://www.rbc.ru/politics/08/10/2022/63414bc29a79479e54b7b535\\\"completed\n",
      "\\\"https://www.rbc.ru/politics/08/10/2022/634157d19a7947a1d108b9c3\\\"completed\n",
      "\\\"https://www.rbc.ru/politics/08/10/2022/6341568a9a7947a19ca26c5a\\\"completed\n",
      "\\\"https://www.rbc.ru/politics/08/10/2022/634154c59a7947a0e03d1a7a\\\"completed\n",
      "\\\"https://www.rbc.ru/politics/08/10/2022/634153e29a79479e3f6068e6\\\"completed\n",
      "\\\"https://www.rbc.ru/politics/08/10/2022/634143039a79479d2d16700a\\\"completed\n",
      "\\\"https://www.rbc.ru/politics/08/10/2022/63413dd09a79479c1e5e3e6f\\\"completed\n"
     ]
    },
    {
     "data": {
      "text/plain": [
       "'\\nwith open(\\'rbk_economy.csv\\', \\'w\\') as csvfile:\\n    writer = csv.writer(csvfile)\\n    writer.writerow((\\'SENDER\\', \\'MESSAGE\\'))\\n\\n    for item in items:\\n        re.sub(r\"^\\\\s+|\\\\s+$\", \"\", item[\\'MESSAGE\\'])\\n        writer.writerow((item[\\'SENDER\\'], item[\\'MESSAGE\\']))\\n'"
      ]
     },
     "execution_count": 3,
     "metadata": {},
     "output_type": "execute_result"
    }
   ],
   "source": [
    "id = 0\n",
    "items = []\n",
    "hrefs = []\n",
    "for item in range(10):\n",
    "    url = 'https://www.rbc.ru/v10/ajax/get-news-by-filters/?category=politics&offset='+ str(id) +'&limit=12'\n",
    "    req = requests.get(url, headers=headers)\n",
    "    src = req.text\n",
    "\n",
    "    soup = BeautifulSoup(src, 'lxml')  \n",
    "\n",
    "    postHref = soup.find(\"a\").get(\"href\")\n",
    "    items.append(\n",
    "        {\n",
    "            \"id\": id,\n",
    "            \"href\": postHref\n",
    "        }\n",
    "    )\n",
    "    id += 1\n",
    "    print(postHref +'completed')\n",
    "    hrefs.append(postHref)\n",
    "\n",
    "\"\"\"\n",
    "req = requests.get(postHref, headers=headers)\n",
    "src = req.text\n",
    "\n",
    "soup = BeautifulSoup(src, 'lxml')\n",
    "print(soup)\n",
    "\"\"\"\n",
    "\n",
    "\n",
    "\n",
    "\n",
    "\n",
    "\n",
    "# df = pd.DataFrame(data, columns=['SENDER', 'MESSAGE'])\n",
    "# df.to_csv('filename.csv', encoding='utf-8')\n",
    "\n",
    "\"\"\"\n",
    "with open('rbk_economy.csv', 'w') as csvfile:\n",
    "    writer = csv.writer(csvfile)\n",
    "    writer.writerow(('SENDER', 'MESSAGE'))\n",
    "\n",
    "    for item in items:\n",
    "        re.sub(r\"^\\s+|\\s+$\", \"\", item['MESSAGE'])\n",
    "        writer.writerow((item['SENDER'], item['MESSAGE']))\n",
    "\"\"\"\n"
   ]
  },
  {
   "cell_type": "code",
   "execution_count": null,
   "metadata": {},
   "outputs": [],
   "source": [
    "\n",
    "with open('rbk_politics_hrefs.json', 'w') as file:\n",
    "    json.dump(items, file, indent=4, ensure_ascii=False)"
   ]
  },
  {
   "cell_type": "code",
   "execution_count": 6,
   "metadata": {},
   "outputs": [
    {
     "name": "stdout",
     "output_type": "stream",
     "text": [
      "https://www.rbc.ru/politics/08/10/2022/63416a959a7947a652f10e55\n"
     ]
    },
    {
     "ename": "AttributeError",
     "evalue": "'NoneType' object has no attribute 'text'",
     "output_type": "error",
     "traceback": [
      "\u001b[0;31m---------------------------------------------------------------------------\u001b[0m",
      "\u001b[0;31mAttributeError\u001b[0m                            Traceback (most recent call last)",
      "\u001b[1;32m/Users/vvlrff/Desktop/my_projects/MORE_Tech/parsers/rbk_politics copy.ipynb Cell 5\u001b[0m in \u001b[0;36m<cell line: 3>\u001b[0;34m()\u001b[0m\n\u001b[1;32m      <a href='vscode-notebook-cell:/Users/vvlrff/Desktop/my_projects/MORE_Tech/parsers/rbk_politics%20copy.ipynb#W4sZmlsZQ%3D%3D?line=8'>9</a>\u001b[0m soup \u001b[39m=\u001b[39m BeautifulSoup(src, \u001b[39m'\u001b[39m\u001b[39mlxml\u001b[39m\u001b[39m'\u001b[39m)  \n\u001b[1;32m     <a href='vscode-notebook-cell:/Users/vvlrff/Desktop/my_projects/MORE_Tech/parsers/rbk_politics%20copy.ipynb#W4sZmlsZQ%3D%3D?line=10'>11</a>\u001b[0m title \u001b[39m=\u001b[39m soup\u001b[39m.\u001b[39mfind(class_\u001b[39m=\u001b[39m\u001b[39m\"\u001b[39m\u001b[39marticle__header__title-in js-slide-title article__header__title-in_relative\u001b[39m\u001b[39m\"\u001b[39m)\n\u001b[0;32m---> <a href='vscode-notebook-cell:/Users/vvlrff/Desktop/my_projects/MORE_Tech/parsers/rbk_politics%20copy.ipynb#W4sZmlsZQ%3D%3D?line=12'>13</a>\u001b[0m title_text \u001b[39m=\u001b[39m title\u001b[39m.\u001b[39;49mtext\n\u001b[1;32m     <a href='vscode-notebook-cell:/Users/vvlrff/Desktop/my_projects/MORE_Tech/parsers/rbk_politics%20copy.ipynb#W4sZmlsZQ%3D%3D?line=14'>15</a>\u001b[0m data\u001b[39m.\u001b[39mappend(url)\n\u001b[1;32m     <a href='vscode-notebook-cell:/Users/vvlrff/Desktop/my_projects/MORE_Tech/parsers/rbk_politics%20copy.ipynb#W4sZmlsZQ%3D%3D?line=15'>16</a>\u001b[0m data\u001b[39m.\u001b[39mappend(title_text)\n",
      "\u001b[0;31mAttributeError\u001b[0m: 'NoneType' object has no attribute 'text'"
     ]
    }
   ],
   "source": [
    "bigData = []\n",
    "id = 0\n",
    "for href in hrefs:\n",
    "    data =[]\n",
    "    url = href[2:-2]\n",
    "    print(url)\n",
    "    req = requests.get(url, headers=headers)\n",
    "    src = req.text\n",
    "    soup = BeautifulSoup(src, 'lxml')  \n",
    "\n",
    "    title = soup.find(class_=\"article__header__title-in js-slide-title article__header__title-in_relative\")\n",
    "\n",
    "    title_text = title.text\n",
    "\n",
    "    data.append(url)\n",
    "    data.append(title_text)\n",
    "    print(data)\n",
    "    print(id)\n",
    "    id+=1\n",
    "    \n",
    "\n",
    "    bigData.append(data)"
   ]
  },
  {
   "cell_type": "code",
   "execution_count": null,
   "metadata": {},
   "outputs": [],
   "source": [
    "with open('rbk_politics.csv', 'w') as csvfile:\n",
    "        writer = csv.writer(csvfile)\n",
    "        writer.writerow(('SENDER', 'MESSAGE'))"
   ]
  },
  {
   "cell_type": "code",
   "execution_count": null,
   "metadata": {},
   "outputs": [],
   "source": [
    "for data in bigData:\n",
    "    with open('rbk_politics.csv', 'a') as csvfile:\n",
    "        writer = csv.writer(csvfile)\n",
    "        writer.writerow(data)"
   ]
  },
  {
   "cell_type": "code",
   "execution_count": null,
   "metadata": {},
   "outputs": [],
   "source": [
    "df = pd.read_csv('rbk_politics.csv')\n",
    "df\n"
   ]
  }
 ],
 "metadata": {
  "kernelspec": {
   "display_name": "Python 3.9.13 64-bit",
   "language": "python",
   "name": "python3"
  },
  "language_info": {
   "codemirror_mode": {
    "name": "ipython",
    "version": 3
   },
   "file_extension": ".py",
   "mimetype": "text/x-python",
   "name": "python",
   "nbconvert_exporter": "python",
   "pygments_lexer": "ipython3",
   "version": "3.9.13"
  },
  "orig_nbformat": 4,
  "vscode": {
   "interpreter": {
    "hash": "b8bdd4e700647ba2b08c59e5df8b7da1dcf50a218bcd4c1bcd9b3dc92e8788e5"
   }
  }
 },
 "nbformat": 4,
 "nbformat_minor": 2
}
